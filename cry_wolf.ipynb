{
 "cells": [
  {
   "cell_type": "markdown",
   "metadata": {},
   "source": [
    "## Boy Who Cried Wolf and the Tale of the True Positive Rate and Positive Predictive Value"
   ]
  },
  {
   "cell_type": "markdown",
   "metadata": {},
   "source": [
    "## Mnemonic Device for Identifying Type I vs. Type II error\n",
    "- The order of the errors the villagers make is Type I then Type II\n",
    "- The null hypothesis is that there is no wolf.\n",
    "- The first time the boy cries wolf, the villagers make a Type I error, which is a false alarm (false positive)\n",
    "- The second time the boy cries wolf, the villagers make a Type I error, which is a false alarm, again. (false positive)\n",
    "- The third time the boy cries wolf, the villagers make a type II error, which is a false negative, a miss."
   ]
  },
  {
   "cell_type": "code",
   "execution_count": 2,
   "metadata": {},
   "outputs": [],
   "source": [
    "import pandas as pd"
   ]
  },
  {
   "cell_type": "code",
   "execution_count": 3,
   "metadata": {},
   "outputs": [],
   "source": [
    "actual = pd.Series([\"no wolf\", \"no wolf\", \"wolf\"])\n",
    "predicted = pd.Series([\"wolf\", \"wolf\", \"wolf\"])"
   ]
  },
  {
   "cell_type": "markdown",
   "metadata": {},
   "source": [
    "If the villagers care most about the lives of all the villagers (and they are OK with false alarms), then they want to minimize false negatives, the misses.\n",
    "\n",
    "Recall is TP / (TP + FN) which means the ratio of true positives to all actual positives \n",
    "\n",
    "Recall == True Positive Rate\n",
    "\n",
    "Punchline is that the denomitor only cares about actual positives, ignoring false alarms"
   ]
  },
  {
   "cell_type": "code",
   "execution_count": 4,
   "metadata": {},
   "outputs": [],
   "source": [
    "tp = ((actual == \"wolf\") & (predicted == \"wolf\")).sum()\n",
    "tn = ((actual == \"no wolf\") & (predicted == \"no wolf\")).sum()\n",
    "fp = ((actual == \"no wolf\") & (predicted == \"wolf\")).sum()\n",
    "fn = ((actual == \"wolf\") & (predicted == \"no wolf\")).sum() "
   ]
  },
  {
   "cell_type": "code",
   "execution_count": 7,
   "metadata": {},
   "outputs": [
    {
     "data": {
      "text/plain": [
       "0.3333333333333333"
      ]
     },
     "execution_count": 7,
     "metadata": {},
     "output_type": "execute_result"
    }
   ],
   "source": [
    "# Accuracy\n",
    "(tp + tn) / len(actual)"
   ]
  },
  {
   "cell_type": "code",
   "execution_count": 5,
   "metadata": {},
   "outputs": [
    {
     "data": {
      "text/plain": [
       "1.0"
      ]
     },
     "execution_count": 5,
     "metadata": {},
     "output_type": "execute_result"
    }
   ],
   "source": [
    "# recall = the true positive rate\n",
    "# recall = tp / (tp + fn)\n",
    "all_actual_positives = tp + fn\n",
    "recall = tp / all_actual_positives\n",
    "recall"
   ]
  },
  {
   "cell_type": "markdown",
   "metadata": {},
   "source": [
    "Another scenario:\n",
    "- Villagers are trying to invent the wheel and can't be disturbed by false alarms.\n",
    "- Maybe life is cheap to this community vs. what they're doing so missing the wolf ain't a big deal.\n",
    "- We want to avoid all the false alarms (fp) at the cost of misses (false negatives)\n",
    "- Precision == \"Positive Predictive Value\"\n",
    "- Precision = tp / (tp + fp)"
   ]
  },
  {
   "cell_type": "code",
   "execution_count": 6,
   "metadata": {},
   "outputs": [
    {
     "data": {
      "text/plain": [
       "0.3333333333333333"
      ]
     },
     "execution_count": 6,
     "metadata": {},
     "output_type": "execute_result"
    }
   ],
   "source": [
    "all_positive_predictions = tp + fp # all positive predictions regardless if they are true or not\n",
    "precision = tp / all_positive_predictions\n",
    "precision"
   ]
  },
  {
   "cell_type": "markdown",
   "metadata": {},
   "source": [
    "## If both the villagers' work and the life of all villagers are equally important\n",
    "\n",
    "Use the F1 score, which is an average of precision and recall"
   ]
  },
  {
   "cell_type": "markdown",
   "metadata": {},
   "source": [
    "# As an exercise:\n",
    "- Add a bunch of false alarms, then check the precision and recall. \n",
    "- Add a bunch of misses, where there is no prediction of wolf but actually one, and check the precision and recall"
   ]
  },
  {
   "cell_type": "code",
   "execution_count": null,
   "metadata": {},
   "outputs": [],
   "source": []
  }
 ],
 "metadata": {
  "kernelspec": {
   "display_name": "Python 3",
   "language": "python",
   "name": "python3"
  },
  "language_info": {
   "codemirror_mode": {
    "name": "ipython",
    "version": 3
   },
   "file_extension": ".py",
   "mimetype": "text/x-python",
   "name": "python",
   "nbconvert_exporter": "python",
   "pygments_lexer": "ipython3",
   "version": "3.8.8"
  }
 },
 "nbformat": 4,
 "nbformat_minor": 4
}
