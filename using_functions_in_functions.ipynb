{
 "cells": [
  {
   "cell_type": "markdown",
   "id": "91ef0c5a",
   "metadata": {},
   "source": [
    "## Using Functions inside Functions\n",
    "\n",
    "- Using your previous functions to compose new functions"
   ]
  },
  {
   "cell_type": "code",
   "execution_count": 1,
   "id": "4d4203da",
   "metadata": {},
   "outputs": [],
   "source": [
    "numbers = [1, 2, 3, 4, 5, 6, 76, 23, 100]"
   ]
  },
  {
   "cell_type": "code",
   "execution_count": 2,
   "id": "f0c10c74",
   "metadata": {},
   "outputs": [],
   "source": [
    "def is_even(number):\n",
    "    if number % 2 == 0:\n",
    "        return True\n",
    "    else:\n",
    "        return False"
   ]
  },
  {
   "cell_type": "code",
   "execution_count": 3,
   "id": "9154ee61",
   "metadata": {},
   "outputs": [],
   "source": [
    "def is_even(number):\n",
    "    return number % 2 == 0"
   ]
  },
  {
   "cell_type": "code",
   "execution_count": 4,
   "id": "1c2143e9",
   "metadata": {},
   "outputs": [
    {
     "data": {
      "text/plain": [
       "False"
      ]
     },
     "execution_count": 4,
     "metadata": {},
     "output_type": "execute_result"
    }
   ],
   "source": [
    "is_even(1)"
   ]
  },
  {
   "cell_type": "code",
   "execution_count": 5,
   "id": "84c47b0a",
   "metadata": {},
   "outputs": [
    {
     "data": {
      "text/plain": [
       "True"
      ]
     },
     "execution_count": 5,
     "metadata": {},
     "output_type": "execute_result"
    }
   ],
   "source": [
    "is_even(2)"
   ]
  },
  {
   "cell_type": "markdown",
   "id": "f23583e7",
   "metadata": {},
   "source": [
    "## Using our previously defined function to help build new functions"
   ]
  },
  {
   "cell_type": "code",
   "execution_count": 6,
   "id": "b60ab4ee",
   "metadata": {},
   "outputs": [],
   "source": [
    "def has_evens(numbers):\n",
    "    # for single in plural\n",
    "    for number in numbers:\n",
    "        if number % 2 == 0:\n",
    "            return True\n",
    "    return False"
   ]
  },
  {
   "cell_type": "code",
   "execution_count": 7,
   "id": "81296fdb",
   "metadata": {},
   "outputs": [
    {
     "data": {
      "text/plain": [
       "True"
      ]
     },
     "execution_count": 7,
     "metadata": {},
     "output_type": "execute_result"
    }
   ],
   "source": [
    "has_evens([1, 1, 2, 4])"
   ]
  },
  {
   "cell_type": "code",
   "execution_count": 8,
   "id": "26b9c281",
   "metadata": {},
   "outputs": [],
   "source": [
    "def has_evens(numbers):\n",
    "    for number in numbers:\n",
    "        if is_even(number):\n",
    "            return True\n",
    "    return False"
   ]
  },
  {
   "cell_type": "code",
   "execution_count": 9,
   "id": "e88f4cef",
   "metadata": {},
   "outputs": [
    {
     "data": {
      "text/plain": [
       "True"
      ]
     },
     "execution_count": 9,
     "metadata": {},
     "output_type": "execute_result"
    }
   ],
   "source": [
    "has_evens([1, 1, 2, 4])"
   ]
  },
  {
   "cell_type": "code",
   "execution_count": 10,
   "id": "bcf72efe",
   "metadata": {},
   "outputs": [],
   "source": [
    "def count_evens(numbers):\n",
    "    count = 0\n",
    "    for number in numbers:\n",
    "        if is_even(number):\n",
    "            count += 1\n",
    "    return count"
   ]
  },
  {
   "cell_type": "code",
   "execution_count": 11,
   "id": "5ddda8a5",
   "metadata": {},
   "outputs": [],
   "source": [
    "def is_positive(number):\n",
    "    return number > 0"
   ]
  },
  {
   "cell_type": "code",
   "execution_count": 12,
   "id": "634f5d3a",
   "metadata": {},
   "outputs": [],
   "source": [
    "def is_positive_even(number):\n",
    "    return is_positive(number) and is_even(number)"
   ]
  },
  {
   "cell_type": "code",
   "execution_count": 13,
   "id": "0e853855",
   "metadata": {},
   "outputs": [
    {
     "data": {
      "text/plain": [
       "True"
      ]
     },
     "execution_count": 13,
     "metadata": {},
     "output_type": "execute_result"
    }
   ],
   "source": [
    "is_positive_even(4)"
   ]
  },
  {
   "cell_type": "code",
   "execution_count": 14,
   "id": "9b3e69d9",
   "metadata": {},
   "outputs": [],
   "source": [
    "def count_positive_evens(numbers):\n",
    "    count = 0\n",
    "    for number in numbers:\n",
    "        if is_positive_even(number):\n",
    "            count += 1\n",
    "    return count"
   ]
  },
  {
   "cell_type": "code",
   "execution_count": 15,
   "id": "4f3adbe7",
   "metadata": {},
   "outputs": [
    {
     "data": {
      "text/plain": [
       "2"
      ]
     },
     "execution_count": 15,
     "metadata": {},
     "output_type": "execute_result"
    }
   ],
   "source": [
    "count_positive_evens([1, 2, 3, 4])"
   ]
  },
  {
   "cell_type": "code",
   "execution_count": 16,
   "id": "350929df",
   "metadata": {},
   "outputs": [],
   "source": [
    "shopping_cart = {\n",
    "    \"tax\": .08,\n",
    "    \"items\": [\n",
    "        {\n",
    "            \"title\": \"orange juice\",\n",
    "            \"price\": 3.99,\n",
    "            \"quantity\": 1\n",
    "        },\n",
    "        {\n",
    "            \"title\": \"rice\",\n",
    "            \"price\": 1.99,\n",
    "            \"quantity\": 3\n",
    "        },\n",
    "        {\n",
    "            \"title\": \"beans\",\n",
    "            \"price\": 0.99,\n",
    "            \"quantity\": 3\n",
    "        },\n",
    "        {\n",
    "            \"title\": \"chili sauce\",\n",
    "            \"price\": 2.99,\n",
    "            \"quantity\": 1\n",
    "        },\n",
    "        {\n",
    "            \"title\": \"chocolate\",\n",
    "            \"price\": 0.75,\n",
    "            \"quantity\": 9\n",
    "        }\n",
    "    ]\n",
    "}"
   ]
  },
  {
   "cell_type": "code",
   "execution_count": 17,
   "id": "2beb9b83",
   "metadata": {},
   "outputs": [],
   "source": [
    "# return the dictionary with the highest amount spend, which is price * quantity"
   ]
  },
  {
   "cell_type": "code",
   "execution_count": 18,
   "id": "067f4fe5",
   "metadata": {},
   "outputs": [
    {
     "data": {
      "text/plain": [
       "[{'title': 'orange juice', 'price': 3.99, 'quantity': 1},\n",
       " {'title': 'rice', 'price': 1.99, 'quantity': 3},\n",
       " {'title': 'beans', 'price': 0.99, 'quantity': 3},\n",
       " {'title': 'chili sauce', 'price': 2.99, 'quantity': 1},\n",
       " {'title': 'chocolate', 'price': 0.75, 'quantity': 9}]"
      ]
     },
     "execution_count": 18,
     "metadata": {},
     "output_type": "execute_result"
    }
   ],
   "source": [
    "items = shopping_cart[\"items\"]\n",
    "items"
   ]
  },
  {
   "cell_type": "code",
   "execution_count": 19,
   "id": "f7e8f090",
   "metadata": {},
   "outputs": [
    {
     "name": "stdout",
     "output_type": "stream",
     "text": [
      "The most spent item is {'title': 'chocolate', 'price': 0.75, 'quantity': 9}\n"
     ]
    }
   ],
   "source": [
    "# initializing a value to zero \n",
    "highest_amount_spent = 0\n",
    "most_spent_item = None\n",
    "\n",
    "for item in items:\n",
    "    amount_spent = item[\"price\"] * item[\"quantity\"]\n",
    "    \n",
    "    if amount_spent > highest_amount_spent:\n",
    "        highest_amount_spent = amount_spent\n",
    "        most_spent_item = item\n",
    "\n",
    "\n",
    "print(f\"The most spent item is {most_spent_item}\")"
   ]
  },
  {
   "cell_type": "code",
   "execution_count": null,
   "id": "f17d8b6f",
   "metadata": {},
   "outputs": [],
   "source": []
  }
 ],
 "metadata": {
  "kernelspec": {
   "display_name": "Python 3",
   "language": "python",
   "name": "python3"
  },
  "language_info": {
   "codemirror_mode": {
    "name": "ipython",
    "version": 3
   },
   "file_extension": ".py",
   "mimetype": "text/x-python",
   "name": "python",
   "nbconvert_exporter": "python",
   "pygments_lexer": "ipython3",
   "version": "3.8.8"
  }
 },
 "nbformat": 4,
 "nbformat_minor": 5
}
