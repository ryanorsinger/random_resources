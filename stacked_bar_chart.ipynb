{
 "cells": [
  {
   "cell_type": "markdown",
   "id": "7dc5c6d1",
   "metadata": {},
   "source": [
    "# Stacked Bar Chart w/ More than 2 Categories\n",
    "- Dataset: `wildfires.csv` has the top 4 causes of wildfires and counts for each cause by year\n",
    "- Goal is to show a stacked bar chart with these 4 different causes\n",
    "    - Stacked bar chart for each year\n",
    "    - Year on the X axis\n",
    "    - n_occurrences on the y axis\n",
    "    - Different colors by general_cause"
   ]
  },
  {
   "cell_type": "code",
   "execution_count": 1,
   "id": "c52a4dfb",
   "metadata": {},
   "outputs": [],
   "source": [
    "import pandas as pd\n",
    "import matplotlib.pyplot as plt"
   ]
  },
  {
   "cell_type": "code",
   "execution_count": 2,
   "id": "63e04248",
   "metadata": {},
   "outputs": [],
   "source": [
    "df = pd.read_csv('wildfires.csv', sep=\",\", index_col=0)"
   ]
  },
  {
   "cell_type": "code",
   "execution_count": 3,
   "id": "e9135744",
   "metadata": {},
   "outputs": [
    {
     "data": {
      "text/html": [
       "<div>\n",
       "<style scoped>\n",
       "    .dataframe tbody tr th:only-of-type {\n",
       "        vertical-align: middle;\n",
       "    }\n",
       "\n",
       "    .dataframe tbody tr th {\n",
       "        vertical-align: top;\n",
       "    }\n",
       "\n",
       "    .dataframe thead th {\n",
       "        text-align: right;\n",
       "    }\n",
       "</style>\n",
       "<table border=\"1\" class=\"dataframe\">\n",
       "  <thead>\n",
       "    <tr style=\"text-align: right;\">\n",
       "      <th></th>\n",
       "      <th>year</th>\n",
       "      <th>general_cause</th>\n",
       "      <th>num_occurrences</th>\n",
       "    </tr>\n",
       "  </thead>\n",
       "  <tbody>\n",
       "    <tr>\n",
       "      <th>0</th>\n",
       "      <td>1992</td>\n",
       "      <td>Arson/incendiarism</td>\n",
       "      <td>11250</td>\n",
       "    </tr>\n",
       "    <tr>\n",
       "      <th>1</th>\n",
       "      <td>1992</td>\n",
       "      <td>Debris and open burning</td>\n",
       "      <td>12792</td>\n",
       "    </tr>\n",
       "    <tr>\n",
       "      <th>2</th>\n",
       "      <td>1992</td>\n",
       "      <td>Equipment and vehicle use</td>\n",
       "      <td>5637</td>\n",
       "    </tr>\n",
       "    <tr>\n",
       "      <th>3</th>\n",
       "      <td>1992</td>\n",
       "      <td>Natural</td>\n",
       "      <td>12576</td>\n",
       "    </tr>\n",
       "    <tr>\n",
       "      <th>4</th>\n",
       "      <td>1993</td>\n",
       "      <td>Arson/incendiarism</td>\n",
       "      <td>11036</td>\n",
       "    </tr>\n",
       "  </tbody>\n",
       "</table>\n",
       "</div>"
      ],
      "text/plain": [
       "   year              general_cause  num_occurrences\n",
       "0  1992         Arson/incendiarism            11250\n",
       "1  1992    Debris and open burning            12792\n",
       "2  1992  Equipment and vehicle use             5637\n",
       "3  1992                    Natural            12576\n",
       "4  1993         Arson/incendiarism            11036"
      ]
     },
     "execution_count": 3,
     "metadata": {},
     "output_type": "execute_result"
    }
   ],
   "source": [
    "df.head()"
   ]
  },
  {
   "cell_type": "code",
   "execution_count": 4,
   "id": "9de863f8",
   "metadata": {},
   "outputs": [
    {
     "data": {
      "text/plain": [
       "Arson/incendiarism           27\n",
       "Debris and open burning      27\n",
       "Equipment and vehicle use    27\n",
       "Natural                      27\n",
       "Name: general_cause, dtype: int64"
      ]
     },
     "execution_count": 4,
     "metadata": {},
     "output_type": "execute_result"
    }
   ],
   "source": [
    "df.general_cause.value_counts()"
   ]
  },
  {
   "cell_type": "code",
   "execution_count": 5,
   "id": "b94594fe",
   "metadata": {},
   "outputs": [
    {
     "data": {
      "text/plain": [
       "Text(0.5, 1.0, 'Occurences by year by cause')"
      ]
     },
     "execution_count": 5,
     "metadata": {},
     "output_type": "execute_result"
    },
    {
     "data": {
      "image/png": "[encoded data removed]",
      "text/plain": [
       "<Figure size 432x288 with 1 Axes>"
      ]
     },
     "metadata": {
      "needs_background": "light"
     },
     "output_type": "display_data"
    }
   ],
   "source": [
    "natural = df[df.general_cause == \"Natural\"]\n",
    "arson = df[df.general_cause == \"Arson/incendiarism\"]\n",
    "debris = df[df.general_cause == \"Debris and open burning\"]\n",
    "equipment = df[df.general_cause == \"Equipment and vehicle use\"]\n",
    "\n",
    "natural = natural.set_index(\"year\")\n",
    "arson = arson.set_index(\"year\")\n",
    "equipment = equipment.set_index(\"year\")\n",
    "debris = debris.set_index(\"year\")\n",
    "\n",
    "fig, ax = plt.subplots()\n",
    "labels = arson.index\n",
    "\n",
    "ax.bar(labels, arson.num_occurrences, label=\"Arson/incendiarism\")\n",
    "ax.bar(labels, natural.num_occurrences, label=\"Natural\", bottom=arson.num_occurrences)\n",
    "ax.bar(labels, debris.num_occurrences, label=\"Debris\", bottom=natural.num_occurrences + arson.num_occurrences)\n",
    "ax.bar(labels, equipment.num_occurrences, label=\"Equipment\", bottom=debris.num_occurrences + natural.num_occurrences + arson.num_occurrences)\n",
    "\n",
    "ax.legend()\n",
    "ax.set_ylabel(\"n occurrences\")\n",
    "ax.set_title(\"Occurences by year by cause\")"
   ]
  },
  {
   "cell_type": "code",
   "execution_count": 6,
   "id": "84ccdab0",
   "metadata": {},
   "outputs": [
    {
     "data": {
      "text/plain": [
       "Text(0.5, 1.0, 'Occurences by year by cause')"
      ]
     },
     "execution_count": 6,
     "metadata": {},
     "output_type": "execute_result"
    },
    {
     "data": {
      "image/png": "[encoded data removed]",
      "text/plain": [
       "<Figure size 432x288 with 1 Axes>"
      ]
     },
     "metadata": {
      "needs_background": "light"
     },
     "output_type": "display_data"
    }
   ],
   "source": [
    "fig, ax = plt.subplots()\n",
    "labels = arson.index\n",
    "\n",
    "ax.bar(labels, arson.num_occurrences, label=\"Arson/incendiarism\")\n",
    "ax.bar(labels, natural.num_occurrences, label=\"Natural\", bottom=arson.num_occurrences)\n",
    "ax.bar(labels, debris.num_occurrences, label=\"Debris\", bottom=natural.num_occurrences + arson.num_occurrences)\n",
    "ax.bar(labels, equipment.num_occurrences, label=\"Equipment\", bottom=debris.num_occurrences + natural.num_occurrences + arson.num_occurrences)\n",
    "\n",
    "ax.legend()\n",
    "ax.set_xlabel(\"Year\")\n",
    "ax.set_ylabel(\"N occurrences\")\n",
    "ax.set_title(\"Occurences by year by cause\")"
   ]
  },
  {
   "cell_type": "code",
   "execution_count": null,
   "id": "a8fc5bd6",
   "metadata": {},
   "outputs": [],
   "source": []
  }
 ],
 "metadata": {
  "kernelspec": {
   "display_name": "Python 3 (ipykernel)",
   "language": "python",
   "name": "python3"
  },
  "language_info": {
   "codemirror_mode": {
    "name": "ipython",
    "version": 3
   },
   "file_extension": ".py",
   "mimetype": "text/x-python",
   "name": "python",
   "nbconvert_exporter": "python",
   "pygments_lexer": "ipython3",
   "version": "3.8.12"
  }
 },
 "nbformat": 4,
 "nbformat_minor": 5
}
