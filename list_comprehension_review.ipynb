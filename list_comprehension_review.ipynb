{
 "cells": [
  {
   "cell_type": "code",
   "execution_count": 1,
   "id": "e04d9932",
   "metadata": {},
   "outputs": [
    {
     "data": {
      "text/plain": [
       "[1, 2, 3, 4, 5, 6, 7, 8, 9, 10]"
      ]
     },
     "execution_count": 1,
     "metadata": {},
     "output_type": "execute_result"
    }
   ],
   "source": [
    "numbers = list(range(1, 11))\n",
    "numbers"
   ]
  },
  {
   "cell_type": "code",
   "execution_count": 2,
   "id": "1a574e1a",
   "metadata": {},
   "outputs": [
    {
     "data": {
      "text/plain": [
       "True"
      ]
     },
     "execution_count": 2,
     "metadata": {},
     "output_type": "execute_result"
    }
   ],
   "source": [
    "# What's going on underneath the hood with the foor loop\n",
    "x = 1\n",
    "x in numbers"
   ]
  },
  {
   "cell_type": "code",
   "execution_count": 3,
   "id": "315dc0db",
   "metadata": {},
   "outputs": [
    {
     "data": {
      "text/plain": [
       "[2, 3, 4, 5, 6, 7, 8, 9, 10, 11]"
      ]
     },
     "execution_count": 3,
     "metadata": {},
     "output_type": "execute_result"
    }
   ],
   "source": [
    "# For loop approach first\n",
    "\n",
    "# Start with a new empty list to hold the output\n",
    "output = []\n",
    "\n",
    "# iterate through the existing list\n",
    "# for x is declaring a variable called x that holds each element of the list, one at a time, in order\n",
    "# you are in control of what you name the variable here\n",
    "# habit: for singular in plural:\n",
    "for number in numbers:\n",
    "    result = number + 1\n",
    "    output.append(result)\n",
    "output"
   ]
  },
  {
   "cell_type": "code",
   "execution_count": 4,
   "id": "2b64c076",
   "metadata": {},
   "outputs": [
    {
     "data": {
      "text/plain": [
       "[2, 3, 4, 5, 6, 7, 8, 9, 10, 11]"
      ]
     },
     "execution_count": 4,
     "metadata": {},
     "output_type": "execute_result"
    }
   ],
   "source": [
    "# List comprehension approach to the same thing (replicating the original list)\n",
    "# [operation(n) for n in numbers]\n",
    "output = [number + 1 for number in numbers]\n",
    "output"
   ]
  },
  {
   "cell_type": "code",
   "execution_count": 5,
   "id": "e11f97cf",
   "metadata": {},
   "outputs": [
    {
     "data": {
      "text/plain": [
       "[1, 4, 9, 16, 25, 36, 49, 64, 81, 100]"
      ]
     },
     "execution_count": 5,
     "metadata": {},
     "output_type": "execute_result"
    }
   ],
   "source": [
    "squares = [n**2 for n in numbers]\n",
    "squares"
   ]
  },
  {
   "cell_type": "code",
   "execution_count": 6,
   "id": "d8ed7337",
   "metadata": {},
   "outputs": [
    {
     "data": {
      "text/plain": [
       "['John was one of the Beatles',\n",
       " 'Paul was one of the Beatles',\n",
       " 'George was one of the Beatles',\n",
       " 'Ringo was one of the Beatles']"
      ]
     },
     "execution_count": 6,
     "metadata": {},
     "output_type": "execute_result"
    }
   ],
   "source": [
    "# [whatever_our_operation(x) for x in collection/list]\n",
    "[beatle + \" was one of the Beatles\" for beatle in [\"John\", \"Paul\", \"George\", \"Ringo\"]]"
   ]
  },
  {
   "cell_type": "code",
   "execution_count": 7,
   "id": "0290c83b",
   "metadata": {},
   "outputs": [],
   "source": [
    "# get the sqrt of every number\n",
    "import math"
   ]
  },
  {
   "cell_type": "code",
   "execution_count": 8,
   "id": "05146e58",
   "metadata": {},
   "outputs": [
    {
     "data": {
      "text/plain": [
       "[1.0,\n",
       " 1.4142135623730951,\n",
       " 1.7320508075688772,\n",
       " 2.0,\n",
       " 2.23606797749979,\n",
       " 2.449489742783178,\n",
       " 2.6457513110645907,\n",
       " 2.8284271247461903,\n",
       " 3.0,\n",
       " 3.1622776601683795]"
      ]
     },
     "execution_count": 8,
     "metadata": {},
     "output_type": "execute_result"
    }
   ],
   "source": [
    "y = [math.sqrt(n) for n in numbers]\n",
    "y"
   ]
  },
  {
   "cell_type": "code",
   "execution_count": 9,
   "id": "13492cd1",
   "metadata": {},
   "outputs": [
    {
     "data": {
      "text/plain": [
       "[4, 16, 36, 64, 100]"
      ]
     },
     "execution_count": 9,
     "metadata": {},
     "output_type": "execute_result"
    }
   ],
   "source": [
    "# Square only the even numbers\n",
    "[n**2 for n in numbers if n % 2 == 0]"
   ]
  },
  {
   "cell_type": "code",
   "execution_count": 10,
   "id": "1d54d8ee",
   "metadata": {},
   "outputs": [
    {
     "data": {
      "text/plain": [
       "[1, 4, 27, 16, 125, 36, 343, 64, 729, 100]"
      ]
     },
     "execution_count": 10,
     "metadata": {},
     "output_type": "execute_result"
    }
   ],
   "source": [
    "# [x+1 if x >= 45 else x+5 for x in l]\n",
    "# square evens, cube odds\n",
    "[n**2 if n % 2 == 0 else n**3 for n in numbers]"
   ]
  },
  {
   "cell_type": "code",
   "execution_count": 11,
   "id": "1efaf486",
   "metadata": {},
   "outputs": [
    {
     "data": {
      "text/plain": [
       "[1, 4, 27, 16, 125, 36, 343, 64, 729, 100]"
      ]
     },
     "execution_count": 11,
     "metadata": {},
     "output_type": "execute_result"
    }
   ],
   "source": [
    "# The above case is ... opaque. it ain't simple, so what?\n",
    "output = []\n",
    "for n in numbers:\n",
    "    if n % 2 == 0:\n",
    "        result = n**2\n",
    "    else:\n",
    "        result = n**3\n",
    "    output.append(result)\n",
    "output"
   ]
  },
  {
   "cell_type": "code",
   "execution_count": 12,
   "id": "3a7bc3c6",
   "metadata": {},
   "outputs": [],
   "source": [
    "# How can we square every number for any specific list of numbers? not just the numbers = range(1, 11)\n",
    "def square_all(numbers):\n",
    "    output = []\n",
    "    for n in numbers:\n",
    "        output.append(n**2)\n",
    "    return output"
   ]
  },
  {
   "cell_type": "code",
   "execution_count": 13,
   "id": "e613b346",
   "metadata": {},
   "outputs": [],
   "source": [
    "def square_all(numbers):\n",
    "    return [n**2 for n in numbers]"
   ]
  },
  {
   "cell_type": "code",
   "execution_count": 14,
   "id": "8c9b145a",
   "metadata": {},
   "outputs": [
    {
     "data": {
      "text/plain": [
       "[25, 9, 4, 1, 16, 169, 25]"
      ]
     },
     "execution_count": 14,
     "metadata": {},
     "output_type": "execute_result"
    }
   ],
   "source": [
    "square_all([5, 3, 2, 1, 4, 13, 5])"
   ]
  },
  {
   "cell_type": "code",
   "execution_count": null,
   "id": "781f1b8e",
   "metadata": {},
   "outputs": [],
   "source": []
  }
 ],
 "metadata": {
  "kernelspec": {
   "display_name": "Python 3 (ipykernel)",
   "language": "python",
   "name": "python3"
  },
  "language_info": {
   "codemirror_mode": {
    "name": "ipython",
    "version": 3
   },
   "file_extension": ".py",
   "mimetype": "text/x-python",
   "name": "python",
   "nbconvert_exporter": "python",
   "pygments_lexer": "ipython3",
   "version": "3.8.12"
  }
 },
 "nbformat": 4,
 "nbformat_minor": 5
}
