{
 "cells": [
  {
   "cell_type": "markdown",
   "metadata": {},
   "source": [
    "# Feature Combination Automation"
   ]
  },
  {
   "cell_type": "code",
   "execution_count": 1,
   "metadata": {},
   "outputs": [],
   "source": [
    "import itertools\n",
    "\n",
    "features = [\"this\", \"that\", \"the other\"]\n",
    "            \n",
    "possible_combinations = []\n",
    "            \n",
    "for i in range(2, len(features) + 1):\n",
    "    # Create a combination of each number of features\n",
    "    combination = list(itertools.combinations(features, i))\n",
    "    \n",
    "    # add to the list of combinations\n",
    "    possible_combinations.extend(combination)\n",
    "\n",
    "possible_combinations"
   ]
  },
  {
   "cell_type": "code",
   "execution_count": 2,
   "metadata": {},
   "outputs": [],
   "source": [
    "models = []\n",
    "for combination in possible_combinations:\n",
    "    features = list(combination)\n",
    "    # model.fit(X_train[[features]])\n",
    "    # then continue on with evaluating each model\n",
    "    # append each trained model to the list of models"
   ]
  }
 ],
 "metadata": {
  "kernelspec": {
   "display_name": "Python 3",
   "language": "python",
   "name": "python3"
  },
  "language_info": {
   "codemirror_mode": {
    "name": "ipython",
    "version": 3
   },
   "file_extension": ".py",
   "mimetype": "text/x-python",
   "name": "python",
   "nbconvert_exporter": "python",
   "pygments_lexer": "ipython3",
   "version": "3.8.5"
  }
 },
 "nbformat": 4,
 "nbformat_minor": 4
}
